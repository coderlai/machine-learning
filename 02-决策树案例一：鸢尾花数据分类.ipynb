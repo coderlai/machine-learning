{
 "cells": [
  {
   "cell_type": "code",
   "execution_count": 79,
   "metadata": {},
   "outputs": [],
   "source": [
    "import numpy as np\n",
    "import matplotlib as mpl\n",
    "import pandas as pd\n",
    "from matplotlib import pyplot as plt\n",
    "import warnings\n",
    "from sklearn import datasets  # 数据集\n",
    "from sklearn import tree  # 决策树\n",
    "from sklearn.tree import DecisionTreeClassifier   # 分类树\n",
    "from sklearn.model_selection import train_test_split  # 拆分训练集与测试集\n",
    "from sklearn.pipeline import Pipeline  # 管道\n",
    "from sklearn.feature_selection import SelectKBest  # 特征选择\n",
    "from sklearn.feature_selection import chi2,f_classif # 特征选择\n",
    "\n",
    "from sklearn.preprocessing import MinMaxScaler,LabelEncoder  # 数据归一化\n",
    "from sklearn.decomposition import PCA  # 主成分分析\n",
    "from sklearn.model_selection import GridSearchCV  # 网格搜索交叉验证，用于选择最优的参数"
   ]
  },
  {
   "cell_type": "code",
   "execution_count": 80,
   "metadata": {},
   "outputs": [],
   "source": [
    "## 设置属性防止中文乱码\n",
    "mpl.rcParams['font.sans-serif'] = [u'SimHei']\n",
    "mpl.rcParams['axes.unicode_minus'] = False"
   ]
  },
  {
   "cell_type": "code",
   "execution_count": 81,
   "metadata": {},
   "outputs": [],
   "source": [
    "warnings.filterwarnings(\"ignore\",category=FutureWarning)"
   ]
  },
  {
   "cell_type": "code",
   "execution_count": 82,
   "metadata": {},
   "outputs": [],
   "source": [
    "iris_featuer_E = 'sepal length', 'sepal width', 'petal length', 'petal width'  # 数据集特征列英文名称\n",
    "iris_feature_C =  '花萼长度', '花萼宽度', '花瓣长度', '花瓣宽度'               # 数据集特征列中文名称\n",
    "iris_class = 'Iris-setosa', 'Iris-versicolor', 'Iris-virginica'                # 样本类别"
   ]
  },
  {
   "cell_type": "code",
   "execution_count": 83,
   "metadata": {},
   "outputs": [
    {
     "name": "stdout",
     "output_type": "stream",
     "text": [
      "总样本数：150;特征属性数目：4\n",
      "[0 0 0 0 0 0 0 0 0 0 0 0 0 0 0 0 0 0 0 0 0 0 0 0 0 0 0 0 0 0 0 0 0 0 0 0 0\n",
      " 0 0 0 0 0 0 0 0 0 0 0 0 0 1 1 1 1 1 1 1 1 1 1 1 1 1 1 1 1 1 1 1 1 1 1 1 1\n",
      " 1 1 1 1 1 1 1 1 1 1 1 1 1 1 1 1 1 1 1 1 1 1 1 1 1 1 2 2 2 2 2 2 2 2 2 2 2\n",
      " 2 2 2 2 2 2 2 2 2 2 2 2 2 2 2 2 2 2 2 2 2 2 2 2 2 2 2 2 2 2 2 2 2 2 2 2 2\n",
      " 2 2]\n"
     ]
    }
   ],
   "source": [
    "# 读取数据\n",
    "path = \"./datas/iris.data\"\n",
    "data = pd.read_csv(path,header=None)\n",
    "# data.head()  \n",
    "X = data[list(range(4))]  # 获取所有特征变量\n",
    "le = LabelEncoder()\n",
    "\n",
    "\n",
    "# 将样本类别标签转化成0，1，2 等数字类型\n",
    "\n",
    "# y = le.fit_transform(data[4])\n",
    "\n",
    "y = pd.Categorical(data[4]).codes\n",
    "\n",
    "print(\"总样本数：%d;特征属性数目：%d\" % X.shape)\n",
    "print(y)"
   ]
  },
  {
   "cell_type": "code",
   "execution_count": 84,
   "metadata": {},
   "outputs": [
    {
     "data": {
      "text/html": [
       "<div>\n",
       "<style scoped>\n",
       "    .dataframe tbody tr th:only-of-type {\n",
       "        vertical-align: middle;\n",
       "    }\n",
       "\n",
       "    .dataframe tbody tr th {\n",
       "        vertical-align: top;\n",
       "    }\n",
       "\n",
       "    .dataframe thead th {\n",
       "        text-align: right;\n",
       "    }\n",
       "</style>\n",
       "<table border=\"1\" class=\"dataframe\">\n",
       "  <thead>\n",
       "    <tr style=\"text-align: right;\">\n",
       "      <th></th>\n",
       "      <th>0</th>\n",
       "      <th>1</th>\n",
       "      <th>2</th>\n",
       "      <th>3</th>\n",
       "      <th>4</th>\n",
       "    </tr>\n",
       "  </thead>\n",
       "  <tbody>\n",
       "    <tr>\n",
       "      <th>0</th>\n",
       "      <td>5.1</td>\n",
       "      <td>3.5</td>\n",
       "      <td>1.4</td>\n",
       "      <td>0.2</td>\n",
       "      <td>Iris-setosa</td>\n",
       "    </tr>\n",
       "    <tr>\n",
       "      <th>1</th>\n",
       "      <td>4.9</td>\n",
       "      <td>3.0</td>\n",
       "      <td>1.4</td>\n",
       "      <td>0.2</td>\n",
       "      <td>Iris-setosa</td>\n",
       "    </tr>\n",
       "    <tr>\n",
       "      <th>2</th>\n",
       "      <td>4.7</td>\n",
       "      <td>3.2</td>\n",
       "      <td>1.3</td>\n",
       "      <td>0.2</td>\n",
       "      <td>Iris-setosa</td>\n",
       "    </tr>\n",
       "    <tr>\n",
       "      <th>3</th>\n",
       "      <td>4.6</td>\n",
       "      <td>3.1</td>\n",
       "      <td>1.5</td>\n",
       "      <td>0.2</td>\n",
       "      <td>Iris-setosa</td>\n",
       "    </tr>\n",
       "    <tr>\n",
       "      <th>4</th>\n",
       "      <td>5.0</td>\n",
       "      <td>3.6</td>\n",
       "      <td>1.4</td>\n",
       "      <td>0.2</td>\n",
       "      <td>Iris-setosa</td>\n",
       "    </tr>\n",
       "  </tbody>\n",
       "</table>\n",
       "</div>"
      ],
      "text/plain": [
       "     0    1    2    3            4\n",
       "0  5.1  3.5  1.4  0.2  Iris-setosa\n",
       "1  4.9  3.0  1.4  0.2  Iris-setosa\n",
       "2  4.7  3.2  1.3  0.2  Iris-setosa\n",
       "3  4.6  3.1  1.5  0.2  Iris-setosa\n",
       "4  5.0  3.6  1.4  0.2  Iris-setosa"
      ]
     },
     "execution_count": 84,
     "metadata": {},
     "output_type": "execute_result"
    }
   ],
   "source": [
    "data.head()"
   ]
  },
  {
   "cell_type": "code",
   "execution_count": 85,
   "metadata": {},
   "outputs": [
    {
     "name": "stdout",
     "output_type": "stream",
     "text": [
      "训练集样本数目：120；测试集样本数目：30\n"
     ]
    }
   ],
   "source": [
    "# 对数据集进行分割【训练集和测试集】\n",
    "x_train,x_test,y_train,y_test = train_test_split(X,y,train_size=0.8,random_state=14)\n",
    "print(\"训练集样本数目：%d；测试集样本数目：%d\" % (x_train.shape[0],x_test.shape[0]))\n",
    "# 目标变量转化成数值类型\n",
    "y_train = y_train.astype(np.int)\n",
    "y_test = y_test.astype(np.int)"
   ]
  },
  {
   "cell_type": "code",
   "execution_count": 86,
   "metadata": {},
   "outputs": [
    {
     "data": {
      "text/plain": [
       "array([0, 1, 1, 0, 1, 0, 2, 1, 2, 1, 2, 0, 0, 1, 2, 2, 0, 0, 0, 1, 0, 0,\n",
       "       2, 2, 1, 2, 2, 0, 1, 2, 1, 1, 2, 1, 1, 2, 1, 1, 1, 1, 1, 1, 1, 2,\n",
       "       2, 0, 0, 2, 0, 2, 0, 0, 2, 1, 0, 1, 2, 2, 2, 1, 1, 2, 1, 2, 2, 2,\n",
       "       0, 2, 1, 1, 0, 2, 1, 1, 1, 1, 1, 0, 0, 0, 0, 1, 2, 2, 0, 2, 0, 1,\n",
       "       2, 0, 1, 0, 0, 2, 2, 2, 0, 2, 2, 1, 1, 0, 2, 2, 0, 2, 1, 0, 2, 0,\n",
       "       0, 0, 2, 1, 2, 2, 1, 0, 1, 2])"
      ]
     },
     "execution_count": 86,
     "metadata": {},
     "output_type": "execute_result"
    }
   ],
   "source": [
    "y_train"
   ]
  },
  {
   "cell_type": "code",
   "execution_count": 87,
   "metadata": {},
   "outputs": [
    {
     "data": {
      "text/html": [
       "<div>\n",
       "<style scoped>\n",
       "    .dataframe tbody tr th:only-of-type {\n",
       "        vertical-align: middle;\n",
       "    }\n",
       "\n",
       "    .dataframe tbody tr th {\n",
       "        vertical-align: top;\n",
       "    }\n",
       "\n",
       "    .dataframe thead th {\n",
       "        text-align: right;\n",
       "    }\n",
       "</style>\n",
       "<table border=\"1\" class=\"dataframe\">\n",
       "  <thead>\n",
       "    <tr style=\"text-align: right;\">\n",
       "      <th></th>\n",
       "      <th>0</th>\n",
       "      <th>1</th>\n",
       "      <th>2</th>\n",
       "      <th>3</th>\n",
       "    </tr>\n",
       "  </thead>\n",
       "  <tbody>\n",
       "    <tr>\n",
       "      <th>39</th>\n",
       "      <td>5.1</td>\n",
       "      <td>3.4</td>\n",
       "      <td>1.5</td>\n",
       "      <td>0.2</td>\n",
       "    </tr>\n",
       "    <tr>\n",
       "      <th>93</th>\n",
       "      <td>5.0</td>\n",
       "      <td>2.3</td>\n",
       "      <td>3.3</td>\n",
       "      <td>1.0</td>\n",
       "    </tr>\n",
       "    <tr>\n",
       "      <th>73</th>\n",
       "      <td>6.1</td>\n",
       "      <td>2.8</td>\n",
       "      <td>4.7</td>\n",
       "      <td>1.2</td>\n",
       "    </tr>\n",
       "    <tr>\n",
       "      <th>14</th>\n",
       "      <td>5.8</td>\n",
       "      <td>4.0</td>\n",
       "      <td>1.2</td>\n",
       "      <td>0.2</td>\n",
       "    </tr>\n",
       "    <tr>\n",
       "      <th>69</th>\n",
       "      <td>5.6</td>\n",
       "      <td>2.5</td>\n",
       "      <td>3.9</td>\n",
       "      <td>1.1</td>\n",
       "    </tr>\n",
       "  </tbody>\n",
       "</table>\n",
       "</div>"
      ],
      "text/plain": [
       "      0    1    2    3\n",
       "39  5.1  3.4  1.5  0.2\n",
       "93  5.0  2.3  3.3  1.0\n",
       "73  6.1  2.8  4.7  1.2\n",
       "14  5.8  4.0  1.2  0.2\n",
       "69  5.6  2.5  3.9  1.1"
      ]
     },
     "execution_count": 87,
     "metadata": {},
     "output_type": "execute_result"
    }
   ],
   "source": [
    "x_train.head()"
   ]
  },
  {
   "cell_type": "code",
   "execution_count": 88,
   "metadata": {},
   "outputs": [
    {
     "name": "stdout",
     "output_type": "stream",
     "text": [
      "原始数据各个特征的调整最小值： [-1.19444444 -0.83333333 -0.18965517 -0.04166667]\n",
      "原始数据各个特征的缩放数据值： [0.27777778 0.41666667 0.17241379 0.41666667]\n"
     ]
    }
   ],
   "source": [
    "#数据标准化\n",
    "#StandardScaler (基于特征矩阵的列，将属性值转换至服从正态分布)\n",
    "#标准化是依照特征矩阵的列处理数据，其通过求z-score的方法，将样本的特征值转换到同一量纲下\n",
    "#常用与基于正态分布的算法，比如回归\n",
    "\n",
    "#数据归一化\n",
    "#MinMaxScaler （区间缩放，基于最大最小值，将数据转换到0,1区间上的）\n",
    "#提升模型收敛速度，提升模型精度\n",
    "#常见用于神经网络\n",
    "\n",
    "#Normalizer （基于矩阵的行，将样本向量转换为单位向量）\n",
    "#其目的在于样本向量在点乘运算或其他核函数计算相似性时，拥有统一的标准\n",
    "#常见用于文本分类和聚类、logistic回归中也会使用，有效防止过拟合\n",
    "\n",
    "ss = MinMaxScaler()\n",
    "# 用标准化方法对数据进行处理并转换\n",
    "\n",
    "x_train = ss.fit_transform(x_train)\n",
    "x_test = ss.transform(x_test)\n",
    "\n",
    "print(\"原始数据各个特征的调整最小值：\",ss.min_)\n",
    "print(\"原始数据各个特征的缩放数据值：\",ss.scale_)"
   ]
  },
  {
   "cell_type": "code",
   "execution_count": 89,
   "metadata": {},
   "outputs": [
    {
     "name": "stdout",
     "output_type": "stream",
     "text": [
      "对类别判断影响最大的三个特征属性分布是： [ True False  True  True]\n",
      "[0 2 3]\n"
     ]
    }
   ],
   "source": [
    "# 特征选择： 从已有的特征中选择出影响目标值最大的特征属性\n",
    "# 常用方法：{分类：F统计量f_classif 卡方系数chi2,互信息mutual_info_classif(minepy)}\n",
    "            # 连续：皮尔逊相关系数 F统计量 互信息mutual_info_classif\n",
    "# SelectKBest(卡方系数)\n",
    "\n",
    "ch2  = SelectKBest(chi2,k=3) # 使用SelectKBest从4个原始特征中选择出3个特征\n",
    "\n",
    "# k默认为10\n",
    "\n",
    "\n",
    "\n",
    "x_train = ch2.fit_transform(x_train,y_train) # 训练并转换\n",
    "\n",
    "\n",
    "x_test = ch2.transform(x_test)  # 转换\n",
    "\n",
    "# 获取筛选出的三个特征索引\n",
    "select_name_index = ch2.get_support(indices=True)\n",
    "\n",
    "print(\"对类别判断影响最大的三个特征属性分布是：\",ch2.get_support(indices=False))\n",
    "print(select_name_index)"
   ]
  },
  {
   "cell_type": "code",
   "execution_count": 90,
   "metadata": {},
   "outputs": [],
   "source": [
    "# 降维： 对于数据而言，如果特征属性较多，在构建过程中，会比较复杂，这个时候，考虑将多维（高维）降至维度较少的数据（低维）\n",
    "# 常用的方法：\n",
    "# PCA   主成分分析（无监督）\n",
    "# LDA 线性判别分析（有监督）类内方差最小，人脸识别，通常先做一次pac\n",
    "\n",
    "pca = PCA(n_components=2)  # 构建pca对象，设置最终维度是2维\n",
    "\n",
    "# 这里是为了后面画图方便，所以将维度设置成2维，一般用默认不设置参数即可\n",
    "\n",
    "x_train = pca.fit_transform(x_train)  # 训练并转换\n",
    "x_test = pca.transform(x_test)   # 转换"
   ]
  },
  {
   "cell_type": "code",
   "execution_count": 91,
   "metadata": {},
   "outputs": [],
   "source": [
    "# 模型的构建\n",
    "model = DecisionTreeClassifier(criterion=\"entropy\",random_state=0)  # criterion 也可选gini\n",
    "\n",
    "\n",
    "# 模型训练\n",
    "\n",
    "model.fit(x_train,y_train)\n",
    "\n",
    "# 模型预测\n",
    "y_test_pred = model.predict(x_test)\n"
   ]
  },
  {
   "cell_type": "code",
   "execution_count": 113,
   "metadata": {},
   "outputs": [
    {
     "name": "stdout",
     "output_type": "stream",
     "text": [
      "准确率：96.67%\n",
      "Score: 0.9666666666666667\n",
      "Classes: [0 1 2]\n"
     ]
    }
   ],
   "source": [
    "# 模型结果的评\n",
    "y_test2 = y_test.reshape(-1)\n",
    "result = (y_test2 == y_test_pred)\n",
    "print(\"准确率：%.2f%%\" % (np.mean(result)*100))\n",
    "\n",
    "# 实际可通过参数获取\n",
    "print(\"Score:\",model.score(x_test,y_test))\n",
    "print(\"Classes:\",model.classes_)"
   ]
  },
  {
   "cell_type": "code",
   "execution_count": 129,
   "metadata": {},
   "outputs": [
    {
     "name": "stdout",
     "output_type": "stream",
     "text": [
      "(100, 100)\n"
     ]
    },
    {
     "data": {
      "text/plain": [
       "array([0, 0, 0, 0, 0, 0, 0, 0, 0, 0, 0, 0, 0, 0, 0, 0, 0, 0, 0, 0, 0, 0,\n",
       "       0, 0, 0, 0, 0, 0, 0, 0, 0, 0, 1, 1, 1, 1, 1, 1, 1, 1, 1, 1, 1, 1,\n",
       "       1, 1, 1, 1, 1, 1, 1, 1, 1, 1, 1, 1, 1, 1, 1, 1, 1, 1, 1, 1, 1, 1,\n",
       "       1, 1, 1, 1, 1, 1, 1, 1, 1, 1, 1, 1, 1, 1, 1, 1, 1, 1, 1, 2, 2, 2,\n",
       "       2, 2, 2, 2, 2, 2, 2, 2, 2, 2, 2, 2])"
      ]
     },
     "execution_count": 129,
     "metadata": {},
     "output_type": "execute_result"
    }
   ],
   "source": [
    "# 画图\n",
    "N = 100\n",
    "x1_min = np.min((x_train.T[0].min(),x_test.T[0].min()))\n",
    "x1_max = np.min((x_train.T[0].max(),x_test.T[0].max()))\n",
    "x2_min = np.min((x_train.T[1].min(),x_test.T[1].min()))\n",
    "x2_max = np.min((x_train.T[1].max(),x_test.T[1].max()))\n",
    "\n",
    "t1 = np.linspace(x1_min,x1_max,N)\n",
    "t2 = np.linspace(x2_min,x2_max,N)\n",
    "\n",
    "x1,x2 = np.meshgrid(t1,t2)  # 生成网格采样\n",
    "\n",
    "x_show  = np.dstack((x1.flat,x2.flat))[0] # 测试点\n",
    "\n",
    "y_show_hat = model.predict(x_show)  # 预测值\n",
    "y_show_hat = y_show_hat.reshape(x1.shape) # 使之与输入的形状相同\n",
    "\n",
    "print(y_show_hat.shape)\n",
    "\n",
    "y_show_hat[0]"
   ]
  },
  {
   "cell_type": "code",
   "execution_count": 123,
   "metadata": {},
   "outputs": [
    {
     "data": {
      "text/plain": [
       "-0.8079421562071482"
      ]
     },
     "execution_count": 123,
     "metadata": {},
     "output_type": "execute_result"
    }
   ],
   "source": [
    "x_train.T[0].min()"
   ]
  },
  {
   "cell_type": "code",
   "execution_count": 124,
   "metadata": {},
   "outputs": [
    {
     "ename": "AxisError",
     "evalue": "axis 2 is out of bounds for array of dimension 0",
     "output_type": "error",
     "traceback": [
      "\u001b[1;31m---------------------------------------------------------------------------\u001b[0m",
      "\u001b[1;31mAxisError\u001b[0m                                 Traceback (most recent call last)",
      "\u001b[1;32m<ipython-input-124-39eade60c2e0>\u001b[0m in \u001b[0;36m<module>\u001b[1;34m()\u001b[0m\n\u001b[1;32m----> 1\u001b[1;33m \u001b[0mnp\u001b[0m\u001b[1;33m.\u001b[0m\u001b[0mmin\u001b[0m\u001b[1;33m(\u001b[0m\u001b[1;36m1\u001b[0m\u001b[1;33m,\u001b[0m\u001b[1;36m2\u001b[0m\u001b[1;33m)\u001b[0m\u001b[1;33m\u001b[0m\u001b[0m\n\u001b[0m",
      "\u001b[1;32mC:\\software\\Anaconda3\\lib\\site-packages\\numpy\\core\\fromnumeric.py\u001b[0m in \u001b[0;36mamin\u001b[1;34m(a, axis, out, keepdims)\u001b[0m\n\u001b[0;32m   2420\u001b[0m \u001b[1;33m\u001b[0m\u001b[0m\n\u001b[0;32m   2421\u001b[0m     return _methods._amin(a, axis=axis,\n\u001b[1;32m-> 2422\u001b[1;33m                           out=out, **kwargs)\n\u001b[0m\u001b[0;32m   2423\u001b[0m \u001b[1;33m\u001b[0m\u001b[0m\n\u001b[0;32m   2424\u001b[0m \u001b[1;33m\u001b[0m\u001b[0m\n",
      "\u001b[1;32mC:\\software\\Anaconda3\\lib\\site-packages\\numpy\\core\\_methods.py\u001b[0m in \u001b[0;36m_amin\u001b[1;34m(a, axis, out, keepdims)\u001b[0m\n\u001b[0;32m     27\u001b[0m \u001b[1;33m\u001b[0m\u001b[0m\n\u001b[0;32m     28\u001b[0m \u001b[1;32mdef\u001b[0m \u001b[0m_amin\u001b[0m\u001b[1;33m(\u001b[0m\u001b[0ma\u001b[0m\u001b[1;33m,\u001b[0m \u001b[0maxis\u001b[0m\u001b[1;33m=\u001b[0m\u001b[1;32mNone\u001b[0m\u001b[1;33m,\u001b[0m \u001b[0mout\u001b[0m\u001b[1;33m=\u001b[0m\u001b[1;32mNone\u001b[0m\u001b[1;33m,\u001b[0m \u001b[0mkeepdims\u001b[0m\u001b[1;33m=\u001b[0m\u001b[1;32mFalse\u001b[0m\u001b[1;33m)\u001b[0m\u001b[1;33m:\u001b[0m\u001b[1;33m\u001b[0m\u001b[0m\n\u001b[1;32m---> 29\u001b[1;33m     \u001b[1;32mreturn\u001b[0m \u001b[0mumr_minimum\u001b[0m\u001b[1;33m(\u001b[0m\u001b[0ma\u001b[0m\u001b[1;33m,\u001b[0m \u001b[0maxis\u001b[0m\u001b[1;33m,\u001b[0m \u001b[1;32mNone\u001b[0m\u001b[1;33m,\u001b[0m \u001b[0mout\u001b[0m\u001b[1;33m,\u001b[0m \u001b[0mkeepdims\u001b[0m\u001b[1;33m)\u001b[0m\u001b[1;33m\u001b[0m\u001b[0m\n\u001b[0m\u001b[0;32m     30\u001b[0m \u001b[1;33m\u001b[0m\u001b[0m\n\u001b[0;32m     31\u001b[0m \u001b[1;32mdef\u001b[0m \u001b[0m_sum\u001b[0m\u001b[1;33m(\u001b[0m\u001b[0ma\u001b[0m\u001b[1;33m,\u001b[0m \u001b[0maxis\u001b[0m\u001b[1;33m=\u001b[0m\u001b[1;32mNone\u001b[0m\u001b[1;33m,\u001b[0m \u001b[0mdtype\u001b[0m\u001b[1;33m=\u001b[0m\u001b[1;32mNone\u001b[0m\u001b[1;33m,\u001b[0m \u001b[0mout\u001b[0m\u001b[1;33m=\u001b[0m\u001b[1;32mNone\u001b[0m\u001b[1;33m,\u001b[0m \u001b[0mkeepdims\u001b[0m\u001b[1;33m=\u001b[0m\u001b[1;32mFalse\u001b[0m\u001b[1;33m)\u001b[0m\u001b[1;33m:\u001b[0m\u001b[1;33m\u001b[0m\u001b[0m\n",
      "\u001b[1;31mAxisError\u001b[0m: axis 2 is out of bounds for array of dimension 0"
     ]
    }
   ],
   "source": [
    "np.min(1,2)"
   ]
  },
  {
   "cell_type": "code",
   "execution_count": null,
   "metadata": {},
   "outputs": [],
   "source": []
  }
 ],
 "metadata": {
  "kernelspec": {
   "display_name": "Python 3",
   "language": "python",
   "name": "python3"
  }
 },
 "nbformat": 4,
 "nbformat_minor": 2
}
